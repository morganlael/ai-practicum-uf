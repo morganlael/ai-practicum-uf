{
 "cells": [
  {
   "cell_type": "markdown",
   "id": "5bc82530-7491-43d7-ae68-7490736e8448",
   "metadata": {},
   "source": [
    "# Thoughts on AI \n",
    "A repo to organize info for UF AI Practicum sessions\n",
    "\n",
    "## Things I want to do with AI\n",
    "\n",
    "*Tell stories\n",
    "*Change publishing"
   ]
  },
  {
   "cell_type": "code",
   "execution_count": null,
   "id": "d4301733-b801-4452-a165-55bf7a207f35",
   "metadata": {},
   "outputs": [],
   "source": []
  }
 ],
 "metadata": {
  "kernelspec": {
   "display_name": "Python 3 (ipykernel)",
   "language": "python",
   "name": "python3"
  },
  "language_info": {
   "codemirror_mode": {
    "name": "ipython",
    "version": 3
   },
   "file_extension": ".py",
   "mimetype": "text/x-python",
   "name": "python",
   "nbconvert_exporter": "python",
   "pygments_lexer": "ipython3",
   "version": "3.10.4"
  }
 },
 "nbformat": 4,
 "nbformat_minor": 5
}
